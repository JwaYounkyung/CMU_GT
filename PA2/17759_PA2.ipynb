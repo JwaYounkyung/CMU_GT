{
  "cells": [
    {
      "cell_type": "code",
      "execution_count": null,
      "metadata": {
        "id": "JT_LYPYsIfyM"
      },
      "outputs": [],
      "source": [
        "from google.colab import drive\n",
        "\n",
        "drive.mount('/content/gdrive')"
      ]
    },
    {
      "cell_type": "code",
      "execution_count": null,
      "metadata": {
        "id": "pR6E2BKQ5T0Z"
      },
      "outputs": [],
      "source": [
        "%cd /content/gdrive/My Drive/PA2"
      ]
    },
    {
      "cell_type": "markdown",
      "metadata": {
        "id": "POjVTaR-tA9g"
      },
      "source": [
        "**Installation**"
      ]
    },
    {
      "cell_type": "code",
      "execution_count": null,
      "metadata": {
        "id": "-bkoUFWkDJDt"
      },
      "outputs": [],
      "source": [
        "!pip install pyglet==1.5.27 > /dev/null 2>&1 \n",
        "!pip install numpy==1.16.5 gym==0.10.5 tensorflow==1.13.1  > /dev/null 2>&1 \n",
        "%cd /content/gdrive/My Drive/PA2\n",
        "%cd multiagent-particle-envs\n",
        "!pip install -e . > /dev/null 2>&1 \n",
        "%cd ..\n",
        "%cd maddpg\n",
        "!pip install -e . > /dev/null 2>&1 \n",
        "!pip install imageio pyvirtualdisplay > /dev/null 2>&1 "
      ]
    },
    {
      "cell_type": "code",
      "execution_count": null,
      "metadata": {
        "id": "DXXafrAyrb2C"
      },
      "outputs": [],
      "source": [
        "!apt-get install -y xvfb > /dev/null 2>&1"
      ]
    },
    {
      "cell_type": "markdown",
      "metadata": {
        "id": "si8jMbwMPQ5P"
      },
      "source": [
        "## Running simple scenario"
      ]
    },
    {
      "cell_type": "code",
      "execution_count": null,
      "metadata": {
        "id": "LrOr_AW7EcFm"
      },
      "outputs": [],
      "source": [
        "%cd /content/gdrive/My Drive/PA2\n",
        "%cd maddpg/experiments\n",
        "# Train the policy on the simple scenario for 5000 episodes\n",
        "!python train.py --scenario simple --num-episodes 5000 --exp-name test --save-dir ../../results/maddpg_simple/ --plots-dir ../../results/maddpg_simple/"
      ]
    },
    {
      "cell_type": "code",
      "execution_count": null,
      "metadata": {
        "id": "hjz7MI-l2klq"
      },
      "outputs": [],
      "source": [
        "# Evaluate the trained policy and save a gif\n",
        "!python train.py --scenario simple --num-episodes 5 --exp-name test --load-dir ../../results/maddpg_simple/ --plots-dir ../../results/maddpg_simple/ --display --save-gifs"
      ]
    },
    {
      "cell_type": "code",
      "execution_count": null,
      "metadata": {
        "id": "8sU7-hyEJlb-"
      },
      "outputs": [],
      "source": [
        "from IPython.display import Image\n",
        "Image('../../results/maddpg_simple/test_replay.gif')"
      ]
    },
    {
      "cell_type": "markdown",
      "metadata": {
        "id": "dr8QFRE9s8qP"
      },
      "source": [
        "## Running ranger/poacher scenario"
      ]
    },
    {
      "cell_type": "code",
      "execution_count": null,
      "metadata": {
        "id": "8WPYvcjVTZaL"
      },
      "outputs": [],
      "source": [
        "%cd /content/gdrive/My Drive/PA2\n",
        "%cd maddpg/experiments\n",
        "# Train the policy on the ranger/poacher scenario for 3000 episodes\n",
        "!python train.py --scenario ranger_poacher_uav --num-episodes 3000 --exp-name test --save-dir ../../results/maddpg_uav/ --plots-dir ../../results/maddpg_uav/ --max-episode-len=50 --num-adversaries=1 --save-rate=500"
      ]
    },
    {
      "cell_type": "code",
      "execution_count": null,
      "metadata": {
        "id": "jOTEA9r9PqNe"
      },
      "outputs": [
        {
          "ename": "",
          "evalue": "",
          "output_type": "error",
          "traceback": [
            "\u001b[1;31mRunning cells with 'Python 3.7.13 ('GT')' requires ipykernel package.\n",
            "\u001b[1;31mRun the following command to install 'ipykernel' into the Python environment. \n",
            "\u001b[1;31mCommand: 'conda install -n GT ipykernel --update-deps --force-reinstall'"
          ]
        }
      ],
      "source": [
        "# Evaluate the trained policy and save a gif\n",
        "!python train.py --scenario ranger_poacher_uav --num-episodes 5 --exp-name test --load-dir ../../results/maddpg_uav/ --plots-dir ../../results/maddpg_uav/ --max-episode-len=50 --num-adversaries=1 --display --save-gifs "
      ]
    },
    {
      "cell_type": "code",
      "execution_count": null,
      "metadata": {
        "id": "kTzazHZAmwlJ"
      },
      "outputs": [],
      "source": [
        "from IPython.display import Image\n",
        "Image('../../results/maddpg_uav/test_replay.gif')"
      ]
    },
    {
      "cell_type": "code",
      "execution_count": null,
      "metadata": {},
      "outputs": [],
      "source": []
    }
  ],
  "metadata": {
    "colab": {
      "collapsed_sections": [],
      "provenance": []
    },
    "kernelspec": {
      "display_name": "Python 3.10.6 ('GT')",
      "language": "python",
      "name": "python3"
    },
    "language_info": {
      "name": "python",
      "version": "3.7.13"
    },
    "vscode": {
      "interpreter": {
        "hash": "c4103d76db5c62ffc6bf80d34d698415564480aa7ee559f6fbe59d17c530d003"
      }
    }
  },
  "nbformat": 4,
  "nbformat_minor": 0
}
