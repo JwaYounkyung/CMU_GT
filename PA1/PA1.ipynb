{
  "cells": [
    {
      "cell_type": "code",
      "execution_count": null,
      "metadata": {
        "colab": {
          "base_uri": "https://localhost:8080/"
        },
        "id": "JT_LYPYsIfyM",
        "outputId": "1363e75e-9afb-4cd4-81bf-8608c0483b9a"
      },
      "outputs": [
        {
          "output_type": "stream",
          "name": "stdout",
          "text": [
            "Drive already mounted at /content/gdrive; to attempt to forcibly remount, call drive.mount(\"/content/gdrive\", force_remount=True).\n"
          ]
        }
      ],
      "source": [
        "from google.colab import drive\n",
        "\n",
        "drive.mount('/content/gdrive')"
      ]
    },
    {
      "cell_type": "code",
      "execution_count": null,
      "metadata": {
        "id": "pR6E2BKQ5T0Z"
      },
      "outputs": [],
      "source": [
        "%cd /content/gdrive/My Drive/PA1"
      ]
    },
    {
      "cell_type": "markdown",
      "metadata": {
        "id": "POjVTaR-tA9g"
      },
      "source": [
        "**Installation**"
      ]
    },
    {
      "cell_type": "code",
      "execution_count": null,
      "metadata": {
        "id": "-bkoUFWkDJDt"
      },
      "outputs": [],
      "source": [
        "!pip install -e .\n",
        "!pip install cffi\n",
        "%cd /content/gdrive/My Drive/PA1/onpolicy/envs/hanabi\n",
        "!mkdir build\n",
        "%cd build\n",
        "!cmake ..\n",
        "!make -j"
      ]
    },
    {
      "cell_type": "code",
      "execution_count": null,
      "metadata": {
        "id": "iaQWKGaMtIgj"
      },
      "outputs": [],
      "source": [
        "%cd /content/gdrive/My Drive/PA1/onpolicy/scripts\n",
        "!pip install wandb\n",
        "!pip install tensorboardX"
      ]
    },
    {
      "cell_type": "markdown",
      "metadata": {
        "id": "dr8QFRE9s8qP"
      },
      "source": [
        "**Running Hanabi**"
      ]
    },
    {
      "cell_type": "code",
      "execution_count": null,
      "metadata": {
        "id": "Y6cu7X3PFexs"
      },
      "outputs": [],
      "source": [
        "!python3 train/train_hanabi_forward.py --env_name \"Hanabi\" --algorithm_name \"mappo\" --experiment_name \"exp1\" --hanabi_name \"Hanabi-Very-Small\"\\\n",
        "              --num_agents 2 --seed 4 --n_training_threads 1 --n_rollout_threads 1 --n_eval_rollout_threads 32 --num_mini_batch 1 --episode_length 100 --num_env_steps 30001\\\n",
        "                    --ppo_epoch 15 --gain 0.01 --lr 7e-4 --critic_lr 1e-3 --hidden_size 512 --layer_N 2 --use_eval \n",
        "                                      "
      ]
    },
    {
      "cell_type": "code",
      "source": [],
      "metadata": {
        "id": "8WPYvcjVTZaL"
      },
      "execution_count": null,
      "outputs": []
    }
  ],
  "metadata": {
    "accelerator": "GPU",
    "colab": {
      "collapsed_sections": [],
      "provenance": []
    },
    "kernelspec": {
      "display_name": "Python 3",
      "name": "python3"
    },
    "language_info": {
      "name": "python"
    }
  },
  "nbformat": 4,
  "nbformat_minor": 0
}